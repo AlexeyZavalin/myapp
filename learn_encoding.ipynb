{
 "cells": [
  {
   "cell_type": "code",
   "execution_count": 4,
   "metadata": {},
   "outputs": [
    {
     "data": {
      "text/plain": [
       "bytes"
      ]
     },
     "execution_count": 4,
     "metadata": {},
     "output_type": "execute_result"
    }
   ],
   "source": [
    "\"\"\"\n",
    "1-е задание\n",
    "\"\"\"\n",
    "str = 'разработка'\n",
    "str_2 = 'сокет'\n",
    "str_3 = 'декоратор'\n",
    "type(str)\n",
    "str_encoded = str.encode()\n",
    "str_2_encoded = str_2.encode()\n",
    "str_3_encoded = str_3.encode()\n",
    "str_encoded\n",
    "type(str_encoded)"
   ]
  },
  {
   "cell_type": "code",
   "execution_count": 6,
   "metadata": {},
   "outputs": [
    {
     "data": {
      "text/plain": [
       "b'class'"
      ]
     },
     "execution_count": 6,
     "metadata": {},
     "output_type": "execute_result"
    }
   ],
   "source": [
    "\"\"\"\n",
    "2-е задание\n",
    "\"\"\"\n",
    "str = b'class'\n",
    "str_2 = b'function'\n",
    "str_3 = b'method'\n",
    "type(str)"
   ]
  },
  {
   "cell_type": "code",
   "execution_count": 7,
   "metadata": {},
   "outputs": [
    {
     "ename": "SyntaxError",
     "evalue": "bytes can only contain ASCII literal characters. (<ipython-input-7-e9ca4aeaadc1>, line 6)",
     "output_type": "error",
     "traceback": [
      "\u001b[1;36m  File \u001b[1;32m\"<ipython-input-7-e9ca4aeaadc1>\"\u001b[1;36m, line \u001b[1;32m6\u001b[0m\n\u001b[1;33m    str_2 = b'класс'\u001b[0m\n\u001b[1;37m           ^\u001b[0m\n\u001b[1;31mSyntaxError\u001b[0m\u001b[1;31m:\u001b[0m bytes can only contain ASCII literal characters.\n"
     ]
    }
   ],
   "source": [
    "\"\"\"\n",
    "3-е задание\n",
    "\n",
    "слова с кириллицей нельзя записать в байтовом виде\n",
    "\"\"\"\n",
    "str_1 = b'attribute'\n",
    "str_1\n",
    "str_2 = b'класс'\n",
    "str_2\n",
    "str_3 = b'функция'\n",
    "str_3\n",
    "str_4 = b'type'\n",
    "str_4"
   ]
  },
  {
   "cell_type": "code",
   "execution_count": 12,
   "metadata": {},
   "outputs": [
    {
     "data": {
      "text/plain": [
       "'standard'"
      ]
     },
     "execution_count": 12,
     "metadata": {},
     "output_type": "execute_result"
    }
   ],
   "source": [
    "\"\"\"\n",
    "4-е задание\n",
    "\"\"\"\n",
    "str_1 = 'разработка'\n",
    "str_1_encoded = str_1.encode()\n",
    "str_1_encoded.decode()\n",
    "str_2 = 'администрирование'\n",
    "str_2_encoded = str_2.encode()\n",
    "str_2_encoded.decode()\n",
    "str_3 = 'protocol'\n",
    "str_3_encoded = str_3.encode()\n",
    "str_3_encoded.decode()\n",
    "str_4 = 'standard'\n",
    "str_4_encoded = str_4.encode()\n",
    "str_4_encoded.decode()"
   ]
  },
  {
   "cell_type": "code",
   "execution_count": null,
   "metadata": {},
   "outputs": [],
   "source": []
  }
 ],
 "metadata": {
  "kernelspec": {
   "display_name": "Python 3",
   "language": "python",
   "name": "python3"
  },
  "language_info": {
   "codemirror_mode": {
    "name": "ipython",
    "version": 3
   },
   "file_extension": ".py",
   "mimetype": "text/x-python",
   "name": "python",
   "nbconvert_exporter": "python",
   "pygments_lexer": "ipython3",
   "version": "3.7.2"
  }
 },
 "nbformat": 4,
 "nbformat_minor": 2
}
